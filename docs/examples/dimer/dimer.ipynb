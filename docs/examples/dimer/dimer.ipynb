{
 "cells": [
  {
   "cell_type": "code",
   "execution_count": 1,
   "metadata": {},
   "outputs": [],
   "source": [
    "import martini"
   ]
  },
  {
   "cell_type": "code",
   "execution_count": 2,
   "metadata": {},
   "outputs": [],
   "source": [
    "model = martini.Martini(pdb_file='dimer.pdb',project_name='example2')"
   ]
  },
  {
   "cell_type": "markdown",
   "metadata": {},
   "source": [
    "# Generate Coarse Grain model \n",
    "\n",
    "### Orienting a part to the z-axis\n",
    "\n",
    "Here we define two atoms, which are the alpha carbons of the residues 294 and 336 of chain A. With the vector created by them, we align it to the z axis for the creation of the bilayer. Be sure to have both proteins oriented as you wish relative to each other."
   ]
  },
  {
   "cell_type": "code",
   "execution_count": 3,
   "metadata": {},
   "outputs": [
    {
     "name": "stdout",
     "output_type": "stream",
     "text": [
      "Residues used to orient in the z-axis: [('A', 294), ('A', 336)].\n",
      "Running martinize2 with command: martinize2 -f homofrank4_oriented.pdb -x homofrank4_cg.pdb -o topol.top -ff martini3001 -scfix -cys auto -p backbone -elastic -ef 200 -el 0.5 -eu 0.9 -maxwarn 30\n"
     ]
    }
   ],
   "source": [
    "residues=[('A',294),('A',336)]\n",
    "model.setProteinCGModel(strength_conf=200, residue_orientation=residues, maxwarn=30, overwrite=True)"
   ]
  },
  {
   "cell_type": "markdown",
   "metadata": {},
   "source": [
    "# Solvation and bilayer\n",
    "\n",
    "### Setting size of the box\n",
    "\n",
    "Here we set a different size of the box different to the default value to fit in the two separated monomers"
   ]
  },
  {
   "cell_type": "code",
   "execution_count": 4,
   "metadata": {},
   "outputs": [
    {
     "name": "stdout",
     "output_type": "stream",
     "text": [
      "Generating a new CG model at 'gdap_dimer2/input_models/system.gro'...\n",
      "If the protein is not centered in the z-axis, consider using the z_membrane_shift parameter (with overwrite=True) to shift the membrane.\n",
      "Running insane with command: insane -f homofrank4_cg.pdb -o system.gro -p system.top -pbc square -box 22,22,16 -center -sol W -salt 0.15 -u POPC -l POPC -center -dm -3\n"
     ]
    }
   ],
   "source": [
    "box_dim = [22,22,16]\n",
    "\n",
    "model.setSolventCGModel(ion_molarity=0.15, membrane=True, z_membrane_shift=-3, box_dimensions=box_dim, overwrite=True)"
   ]
  },
  {
   "cell_type": "markdown",
   "metadata": {},
   "source": [
    "# Setting up simulation\n",
    "\n",
    "Here we use a different temperature to make it 36 Celsius since the protein is from humans."
   ]
  },
  {
   "cell_type": "code",
   "execution_count": 5,
   "metadata": {},
   "outputs": [
    {
     "name": "stdout",
     "output_type": "stream",
     "text": [
      "Modified the topology file (system.top) in the directory: gdap_dimer2/input_models\n",
      "Running gmx make_ndx with command: gmx make_ndx -f system.gro -o index.ndx\n",
      "gmx make_ndx ran successfully: Going to read 0 old index file(s)\n",
      "Analysing residue names:\n",
      "There are:   672    Protein residues\n",
      "There are: 44975      Other residues\n",
      "There are:   958        Ion residues\n",
      "Analysing Protein...\n",
      "Analysing residues not classified as Protein/DNA/RNA/Water and splitting into groups...\n",
      "Analysing residues not classified as Protein/DNA/RNA/Water and splitting into groups...\n",
      "\n",
      "  0 System              : 63475 atoms\n",
      "  1 Protein             :  1614 atoms\n",
      "  2 Protein-H           :  1614 atoms\n",
      "  3 C-alpha             :     0 atoms\n",
      "  4 Backbone            :     0 atoms\n",
      "  5 MainChain           :     0 atoms\n",
      "  6 MainChain+Cb        :     0 atoms\n",
      "  7 MainChain+H         :     0 atoms\n",
      "  8 SideChain           :  1614 atoms\n",
      "  9 SideChain-H         :  1614 atoms\n",
      " 10 Prot-Masses         :  1614 atoms\n",
      " 11 non-Protein         : 61861 atoms\n",
      " 12 Other               : 60903 atoms\n",
      " 13 POPC                : 17376 atoms\n",
      " 14 W                   : 43527 atoms\n",
      " 15 NA+                 :   475 atoms\n",
      " 16 CL-                 :   483 atoms\n",
      " 17 Ion                 :   958 atoms\n",
      " 18 POPC                : 17376 atoms\n",
      " 19 W                   : 43527 atoms\n",
      " 20 NA+                 :   475 atoms\n",
      " 21 CL-                 :   483 atoms\n",
      "\n",
      " nr : group      '!': not  'name' nr name   'splitch' nr    Enter: list groups\n",
      " 'a': atom       '&': and  'del' nr         'splitres' nr   'l': list residues\n",
      " 't': atom type  '|': or   'keep' nr        'splitat' nr    'h': help\n",
      " 'r': residue              'res' nr         'chain' char\n",
      " \"name\": group             'case': case sensitive           'q': save and quit\n",
      " 'ri': residue index\n",
      "\n",
      "> \n",
      "Copied index group 1 'Protein'\n",
      "Copied index group 13 'POPC'\n",
      "Merged two groups with OR: 1614 17376 -> 18990\n",
      "\n",
      " 22 Protein_POPC        : 18990 atoms\n",
      "\n",
      "> \n",
      "Copied index group 14 'W'\n",
      "Copied index group 17 'Ion'\n",
      "Merged two groups with OR: 43527 958 -> 44485\n",
      "\n",
      " 23 W_Ion               : 44485 atoms\n",
      "\n",
      "> \n",
      "Copied index group 1 'Protein'\n",
      "Found 672 atoms with name BB\n",
      "Merged two groups with AND: 1614 672 -> 672\n",
      "\n",
      " 24 Protein_&_BB        :   672 atoms\n",
      "\n",
      "> \n",
      "\n",
      "Running gmx genrestr with command: gmx genrestr -f system.gro -n index.ndx -o posre_backbone.itp -fc 1000 1000 1000\n",
      "gmx genrestr ran successfully: Select group to position restrain\n",
      "Selected 20: 'NA+'\n",
      "\n",
      "Modified the Gmx script files in the directory: gdap_dimer2/scripts\n",
      "Generating the run file...\n"
     ]
    }
   ],
   "source": [
    "model.setUpMartiniSimulation(temperature=309.15, replicas=10, simulation_time=5000)"
   ]
  },
  {
   "cell_type": "code",
   "execution_count": null,
   "metadata": {},
   "outputs": [],
   "source": []
  }
 ],
 "metadata": {
  "kernelspec": {
   "display_name": "gadena",
   "language": "python",
   "name": "python3"
  },
  "language_info": {
   "codemirror_mode": {
    "name": "ipython",
    "version": 3
   },
   "file_extension": ".py",
   "mimetype": "text/x-python",
   "name": "python",
   "nbconvert_exporter": "python",
   "pygments_lexer": "ipython3",
   "version": "3.10.14"
  }
 },
 "nbformat": 4,
 "nbformat_minor": 2
}
