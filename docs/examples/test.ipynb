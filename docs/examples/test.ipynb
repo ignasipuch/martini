{
 "cells": [
  {
   "cell_type": "markdown",
   "metadata": {},
   "source": [
    "# Import and loading model"
   ]
  },
  {
   "cell_type": "code",
   "execution_count": 1,
   "metadata": {},
   "outputs": [],
   "source": [
    "import martini"
   ]
  },
  {
   "cell_type": "markdown",
   "metadata": {},
   "source": [
    "First we create a martini object to which we will apply different methods. It is always recommended to use the help()funcition to understand all the methods used."
   ]
  },
  {
   "cell_type": "code",
   "execution_count": 2,
   "metadata": {},
   "outputs": [],
   "source": [
    "model = martini.Martini(pdb_file='example.pdb',project_name='example')"
   ]
  },
  {
   "cell_type": "markdown",
   "metadata": {},
   "source": [
    "# 1. Generating Coarse Grained model of the protein"
   ]
  },
  {
   "cell_type": "code",
   "execution_count": 3,
   "metadata": {},
   "outputs": [
    {
     "name": "stdout",
     "output_type": "stream",
     "text": [
      "Running martinize2 with command: martinize2 -f gdap_close.pdb -x gdap_close_cg.pdb -o topol.top -ff martini3001 -scfix -cys auto -p backbone -elastic -ef 200 -el 0.5 -eu 0.9\n"
     ]
    }
   ],
   "source": [
    "model.setProteinCGModel(strength_conf=200, overwrite=False)"
   ]
  },
  {
   "cell_type": "markdown",
   "metadata": {},
   "source": [
    "# 2. Solvating the system and adding membrane"
   ]
  },
  {
   "cell_type": "code",
   "execution_count": 4,
   "metadata": {},
   "outputs": [
    {
     "name": "stdout",
     "output_type": "stream",
     "text": [
      "Generating a new CG model at 'gdap/input_models/system.gro'...\n",
      "Running insane with command: insane -f gdap_close_cg.pdb -o system.gro -p system.top -pbc square -box 20,20,10 -center -sol W -salt 0.15 -u POPC -l POPC\n"
     ]
    }
   ],
   "source": [
    "model.setSolventCGModel(ion_molarity=0.15, membrane=True)"
   ]
  },
  {
   "cell_type": "markdown",
   "metadata": {},
   "source": [
    "# 3. Setting up Martini simulation in MN5"
   ]
  },
  {
   "cell_type": "code",
   "execution_count": 5,
   "metadata": {},
   "outputs": [
    {
     "name": "stdout",
     "output_type": "stream",
     "text": [
      "Modified the topology file (system.top) in the directory: gdap/input_models\n",
      "Running gmx make_ndx with command: gmx make_ndx -f system.gro -o index.ndx\n",
      "gmx make_ndx ran successfully: Going to read 0 old index file(s)\n",
      "Analysing residue names:\n",
      "There are:   280    Protein residues\n",
      "There are: 19467      Other residues\n",
      "There are:   400        Ion residues\n",
      "Analysing Protein...\n",
      "Analysing residues not classified as Protein/DNA/RNA/Water and splitting into groups...\n",
      "\n",
      "  0 System              : 34652 atoms\n",
      "  1 Protein             :   672 atoms\n",
      "  2 Protein-H           :   672 atoms\n",
      "  3 C-alpha             :     0 atoms\n",
      "  4 Backbone            :     0 atoms\n",
      "  5 MainChain           :     0 atoms\n",
      "  6 MainChain+Cb        :     0 atoms\n",
      "  7 MainChain+H         :     0 atoms\n",
      "  8 SideChain           :   672 atoms\n",
      "  9 SideChain-H         :   672 atoms\n",
      " 10 Prot-Masses         :   672 atoms\n",
      " 11 non-Protein         : 33980 atoms\n",
      " 12 Other               : 33580 atoms\n",
      " 13 POPC                : 15396 atoms\n",
      " 14 W                   : 18184 atoms\n",
      " 15 NA+                 :   203 atoms\n",
      " 16 CL-                 :   197 atoms\n",
      " 17 Ion                 :   400 atoms\n",
      "\n",
      " nr : group      '!': not  'name' nr name   'splitch' nr    Enter: list groups\n",
      " 'a': atom       '&': and  'del' nr         'splitres' nr   'l': list residues\n",
      " 't': atom type  '|': or   'keep' nr        'splitat' nr    'h': help\n",
      " 'r': residue              'res' nr         'chain' char\n",
      " \"name\": group             'case': case sensitive           'q': save and quit\n",
      " 'ri': residue index\n",
      "\n",
      "> \n",
      "Copied index group 1 'Protein'\n",
      "Copied index group 13 'POPC'\n",
      "Merged two groups with OR: 672 15396 -> 16068\n",
      "\n",
      "> \n",
      "Copied index group 14 'W'\n",
      "Copied index group 17 'Ion'\n",
      "Merged two groups with OR: 18184 400 -> 18584\n",
      "\n",
      "> \n",
      "Copied index group 1 'Protein'\n",
      "Found 280 atoms with name BB\n",
      "Merged two groups with AND: 672 280 -> 280\n",
      "\n",
      "> \n",
      "\n",
      "Running gmx genrestr with command: gmx genrestr -f system.gro -n index.ndx -o posre_backbone.itp -fc 1000 1000 1000\n",
      "gmx genrestr ran successfully: Select group to position restrain\n",
      "Selected 20: 'Protein_&_BB'\n",
      "\n",
      "Modified the Gmx script files in the directory: gdap/scripts\n",
      "Generating the run file...\n"
     ]
    }
   ],
   "source": [
    "model.setUpMartiniSimulation(temperature=306.15, trajectory_checkpoints=10, simulation_time=2000)"
   ]
  },
  {
   "cell_type": "code",
   "execution_count": null,
   "metadata": {},
   "outputs": [],
   "source": []
  }
 ],
 "metadata": {
  "kernelspec": {
   "display_name": "md",
   "language": "python",
   "name": "python3"
  },
  "language_info": {
   "codemirror_mode": {
    "name": "ipython",
    "version": 3
   },
   "file_extension": ".py",
   "mimetype": "text/x-python",
   "name": "python",
   "nbconvert_exporter": "python",
   "pygments_lexer": "ipython3",
   "version": "3.10.14"
  }
 },
 "nbformat": 4,
 "nbformat_minor": 2
}
